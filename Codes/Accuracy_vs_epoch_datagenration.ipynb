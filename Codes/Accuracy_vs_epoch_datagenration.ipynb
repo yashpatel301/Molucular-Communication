{
  "nbformat": 4,
  "nbformat_minor": 0,
  "metadata": {
    "colab": {
      "name": "Accuracy_vs_epoch_datagenration.ipynb",
      "provenance": [],
      "collapsed_sections": [],
      "toc_visible": true
    },
    "kernelspec": {
      "name": "python3",
      "display_name": "Python 3"
    }
  },
  "cells": [
    {
      "cell_type": "markdown",
      "metadata": {
        "id": "VJLV6kyM_PBE"
      },
      "source": [
        "# **Here we are using the dataset that we had generated from DataGeneration.m, and it has not been fully completed as we are getting the accuracy vs epoch graph for both ANN and LSTM models but we need to get the SNR vs BER graph for both**"
      ]
    },
    {
      "cell_type": "markdown",
      "metadata": {
        "id": "E39RwiKpEIvX"
      },
      "source": [
        "# **1) Importing Libraries**"
      ]
    },
    {
      "cell_type": "code",
      "metadata": {
        "id": "yjOnfNUUDBxW",
        "colab": {
          "resources": {
            "http://localhost:8080/nbextensions/google.colab/files.js": {
              "data": "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",
              "ok": true,
              "headers": [
                [
                  "content-type",
                  "application/javascript"
                ]
              ],
              "status": 200,
              "status_text": ""
            }
          },
          "base_uri": "https://localhost:8080/",
          "height": 39
        },
        "outputId": "5891b48e-4b99-4be4-d774-f7d38095061a"
      },
      "source": [
        "import numpy as np #importing necessary libraries \n",
        "import pandas as pd\n",
        "from google.colab import files #uploading dataset\n",
        "upload = files.upload()"
      ],
      "execution_count": null,
      "outputs": [
        {
          "output_type": "display_data",
          "data": {
            "text/html": [
              "\n",
              "     <input type=\"file\" id=\"files-0e691e33-3453-4acb-b277-d0ba04db3c15\" name=\"files[]\" multiple disabled\n",
              "        style=\"border:none\" />\n",
              "     <output id=\"result-0e691e33-3453-4acb-b277-d0ba04db3c15\">\n",
              "      Upload widget is only available when the cell has been executed in the\n",
              "      current browser session. Please rerun this cell to enable.\n",
              "      </output>\n",
              "      <script src=\"/nbextensions/google.colab/files.js\"></script> "
            ],
            "text/plain": [
              "<IPython.core.display.HTML object>"
            ]
          },
          "metadata": {
            "tags": []
          }
        }
      ]
    },
    {
      "cell_type": "markdown",
      "metadata": {
        "id": "GaODN6MCEPdY"
      },
      "source": [
        "# **2) Preparing dataset and creating numpy arrays and dataframes**"
      ]
    },
    {
      "cell_type": "code",
      "metadata": {
        "id": "ChJ0HDKLG36E"
      },
      "source": [
        "df = pd.read_csv('Dataset.csv')"
      ],
      "execution_count": null,
      "outputs": []
    },
    {
      "cell_type": "code",
      "metadata": {
        "id": "x1u6eNRmHI7E",
        "colab": {
          "base_uri": "https://localhost:8080/",
          "height": 206
        },
        "outputId": "e0b0c9da-0625-4bfd-f56c-ff69fa97ffc8"
      },
      "source": [
        "df.head()"
      ],
      "execution_count": null,
      "outputs": [
        {
          "output_type": "execute_result",
          "data": {
            "text/html": [
              "<div>\n",
              "<style scoped>\n",
              "    .dataframe tbody tr th:only-of-type {\n",
              "        vertical-align: middle;\n",
              "    }\n",
              "\n",
              "    .dataframe tbody tr th {\n",
              "        vertical-align: top;\n",
              "    }\n",
              "\n",
              "    .dataframe thead th {\n",
              "        text-align: right;\n",
              "    }\n",
              "</style>\n",
              "<table border=\"1\" class=\"dataframe\">\n",
              "  <thead>\n",
              "    <tr style=\"text-align: right;\">\n",
              "      <th></th>\n",
              "      <th>ri</th>\n",
              "      <th>Label</th>\n",
              "    </tr>\n",
              "  </thead>\n",
              "  <tbody>\n",
              "    <tr>\n",
              "      <th>0</th>\n",
              "      <td>0</td>\n",
              "      <td>0</td>\n",
              "    </tr>\n",
              "    <tr>\n",
              "      <th>1</th>\n",
              "      <td>0</td>\n",
              "      <td>0</td>\n",
              "    </tr>\n",
              "    <tr>\n",
              "      <th>2</th>\n",
              "      <td>0</td>\n",
              "      <td>0</td>\n",
              "    </tr>\n",
              "    <tr>\n",
              "      <th>3</th>\n",
              "      <td>0</td>\n",
              "      <td>0</td>\n",
              "    </tr>\n",
              "    <tr>\n",
              "      <th>4</th>\n",
              "      <td>0</td>\n",
              "      <td>0</td>\n",
              "    </tr>\n",
              "  </tbody>\n",
              "</table>\n",
              "</div>"
            ],
            "text/plain": [
              "   ri  Label\n",
              "0   0      0\n",
              "1   0      0\n",
              "2   0      0\n",
              "3   0      0\n",
              "4   0      0"
            ]
          },
          "metadata": {
            "tags": []
          },
          "execution_count": 4
        }
      ]
    },
    {
      "cell_type": "code",
      "metadata": {
        "id": "WNTKSfDKNKpV"
      },
      "source": [
        "X = np.array(df['ri'])\n",
        "y = np.array(df['Label'])"
      ],
      "execution_count": null,
      "outputs": []
    },
    {
      "cell_type": "code",
      "metadata": {
        "id": "-zUGdntkONI7",
        "colab": {
          "base_uri": "https://localhost:8080/"
        },
        "outputId": "c7cba8da-c208-49a3-f8ab-d32a64554445"
      },
      "source": [
        "print(X.shape)\n",
        "print(y.shape)"
      ],
      "execution_count": null,
      "outputs": [
        {
          "output_type": "stream",
          "text": [
            "(4600,)\n",
            "(4600,)\n"
          ],
          "name": "stdout"
        }
      ]
    },
    {
      "cell_type": "code",
      "metadata": {
        "id": "_cPmE_37HKuS",
        "colab": {
          "base_uri": "https://localhost:8080/"
        },
        "outputId": "acecd84d-7c7b-44ee-9974-c65c4aa48922"
      },
      "source": [
        "df.shape"
      ],
      "execution_count": null,
      "outputs": [
        {
          "output_type": "execute_result",
          "data": {
            "text/plain": [
              "(4600, 2)"
            ]
          },
          "metadata": {
            "tags": []
          },
          "execution_count": 7
        }
      ]
    },
    {
      "cell_type": "markdown",
      "metadata": {
        "id": "Gr3lKGRoEYwV"
      },
      "source": [
        "# **3) Importing Deeplearning tools (Tensorflow and keras)**"
      ]
    },
    {
      "cell_type": "code",
      "metadata": {
        "id": "XyR98CbuMltv"
      },
      "source": [
        "import tensorflow as tf\n",
        "from tensorflow.keras import models\n",
        "from tensorflow.keras import layers"
      ],
      "execution_count": null,
      "outputs": []
    },
    {
      "cell_type": "markdown",
      "metadata": {
        "id": "ot2ecL2qEfl6"
      },
      "source": [
        "# **4) Creating model for ANN**"
      ]
    },
    {
      "cell_type": "code",
      "metadata": {
        "id": "dtzZ5OyNLvwh"
      },
      "source": [
        "model = models.Sequential([\n",
        "     layers.Dense(7, activation='tanh', input_dim=1),\n",
        "     layers.Dense(1, activation='sigmoid'),                      \n",
        "])"
      ],
      "execution_count": null,
      "outputs": []
    },
    {
      "cell_type": "code",
      "metadata": {
        "id": "0I0OsngyQl1L"
      },
      "source": [
        "model.compile(optimizer='adam', loss='binary_crossentropy', metrics = ['accuracy'])"
      ],
      "execution_count": null,
      "outputs": []
    },
    {
      "cell_type": "code",
      "metadata": {
        "id": "0ehNce6lNFxh"
      },
      "source": [
        "from sklearn.model_selection import train_test_split"
      ],
      "execution_count": null,
      "outputs": []
    },
    {
      "cell_type": "code",
      "metadata": {
        "id": "-mwhYPmKNFtT"
      },
      "source": [
        "X_train, X_test, y_train, y_test = train_test_split(X,y,test_size=0.2)"
      ],
      "execution_count": null,
      "outputs": []
    },
    {
      "cell_type": "code",
      "metadata": {
        "id": "E0slIU1AQAKO",
        "colab": {
          "base_uri": "https://localhost:8080/"
        },
        "outputId": "8db4ddfe-71b7-45c8-809f-e34f11e36850"
      },
      "source": [
        "print(X_train.shape)\n",
        "print(X_test.shape)\n",
        "print(y_train.shape)\n",
        "print(y_test.shape)"
      ],
      "execution_count": null,
      "outputs": [
        {
          "output_type": "stream",
          "text": [
            "(3680,)\n",
            "(920,)\n",
            "(3680,)\n",
            "(920,)\n"
          ],
          "name": "stdout"
        }
      ]
    },
    {
      "cell_type": "code",
      "metadata": {
        "id": "BSB3489DTB_e",
        "colab": {
          "base_uri": "https://localhost:8080/"
        },
        "outputId": "16443698-bc7b-4850-e8fb-64c4504cbece"
      },
      "source": [
        "X_train.transpose()\n",
        "X_train.shape"
      ],
      "execution_count": null,
      "outputs": [
        {
          "output_type": "execute_result",
          "data": {
            "text/plain": [
              "(3680,)"
            ]
          },
          "metadata": {
            "tags": []
          },
          "execution_count": 14
        }
      ]
    },
    {
      "cell_type": "code",
      "metadata": {
        "id": "UaM6iit8NFpU",
        "colab": {
          "base_uri": "https://localhost:8080/"
        },
        "outputId": "256d96f5-79b0-4a92-c464-73532f8faee9"
      },
      "source": [
        "history = model.fit(X_train,y_train,epochs = 100, batch_size = 10)"
      ],
      "execution_count": null,
      "outputs": [
        {
          "output_type": "stream",
          "text": [
            "Epoch 1/100\n",
            "368/368 [==============================] - 0s 767us/step - loss: 0.5741 - accuracy: 0.7668\n",
            "Epoch 2/100\n",
            "368/368 [==============================] - 0s 788us/step - loss: 0.3521 - accuracy: 0.8745\n",
            "Epoch 3/100\n",
            "368/368 [==============================] - 0s 804us/step - loss: 0.2847 - accuracy: 0.8791\n",
            "Epoch 4/100\n",
            "368/368 [==============================] - 0s 788us/step - loss: 0.2600 - accuracy: 0.8791\n",
            "Epoch 5/100\n",
            "368/368 [==============================] - 0s 785us/step - loss: 0.2484 - accuracy: 0.8791\n",
            "Epoch 6/100\n",
            "368/368 [==============================] - 0s 889us/step - loss: 0.2417 - accuracy: 0.8791\n",
            "Epoch 7/100\n",
            "368/368 [==============================] - 0s 841us/step - loss: 0.2369 - accuracy: 0.8791\n",
            "Epoch 8/100\n",
            "368/368 [==============================] - 0s 893us/step - loss: 0.2336 - accuracy: 0.8791\n",
            "Epoch 9/100\n",
            "368/368 [==============================] - 0s 835us/step - loss: 0.2311 - accuracy: 0.8791\n",
            "Epoch 10/100\n",
            "368/368 [==============================] - 0s 765us/step - loss: 0.2288 - accuracy: 0.8791\n",
            "Epoch 11/100\n",
            "368/368 [==============================] - 0s 787us/step - loss: 0.2276 - accuracy: 0.8791\n",
            "Epoch 12/100\n",
            "368/368 [==============================] - 0s 811us/step - loss: 0.2262 - accuracy: 0.8791\n",
            "Epoch 13/100\n",
            "368/368 [==============================] - 0s 929us/step - loss: 0.2251 - accuracy: 0.8796\n",
            "Epoch 14/100\n",
            "368/368 [==============================] - 0s 781us/step - loss: 0.2243 - accuracy: 0.8807\n",
            "Epoch 15/100\n",
            "368/368 [==============================] - 0s 793us/step - loss: 0.2238 - accuracy: 0.8815\n",
            "Epoch 16/100\n",
            "368/368 [==============================] - 0s 789us/step - loss: 0.2232 - accuracy: 0.8864\n",
            "Epoch 17/100\n",
            "368/368 [==============================] - 0s 796us/step - loss: 0.2225 - accuracy: 0.8859\n",
            "Epoch 18/100\n",
            "368/368 [==============================] - 0s 844us/step - loss: 0.2222 - accuracy: 0.8878\n",
            "Epoch 19/100\n",
            "368/368 [==============================] - 0s 823us/step - loss: 0.2217 - accuracy: 0.8883\n",
            "Epoch 20/100\n",
            "368/368 [==============================] - 0s 798us/step - loss: 0.2215 - accuracy: 0.8853\n",
            "Epoch 21/100\n",
            "368/368 [==============================] - 0s 788us/step - loss: 0.2212 - accuracy: 0.8883\n",
            "Epoch 22/100\n",
            "368/368 [==============================] - 0s 810us/step - loss: 0.2208 - accuracy: 0.8883\n",
            "Epoch 23/100\n",
            "368/368 [==============================] - 0s 775us/step - loss: 0.2208 - accuracy: 0.8870\n",
            "Epoch 24/100\n",
            "368/368 [==============================] - 0s 904us/step - loss: 0.2204 - accuracy: 0.8883\n",
            "Epoch 25/100\n",
            "368/368 [==============================] - 0s 786us/step - loss: 0.2203 - accuracy: 0.8883\n",
            "Epoch 26/100\n",
            "368/368 [==============================] - 0s 792us/step - loss: 0.2200 - accuracy: 0.8883\n",
            "Epoch 27/100\n",
            "368/368 [==============================] - 0s 810us/step - loss: 0.2201 - accuracy: 0.8883\n",
            "Epoch 28/100\n",
            "368/368 [==============================] - 0s 901us/step - loss: 0.2199 - accuracy: 0.8883\n",
            "Epoch 29/100\n",
            "368/368 [==============================] - 0s 895us/step - loss: 0.2196 - accuracy: 0.8883\n",
            "Epoch 30/100\n",
            "368/368 [==============================] - 0s 902us/step - loss: 0.2197 - accuracy: 0.8883\n",
            "Epoch 31/100\n",
            "368/368 [==============================] - 0s 817us/step - loss: 0.2196 - accuracy: 0.8883\n",
            "Epoch 32/100\n",
            "368/368 [==============================] - 0s 814us/step - loss: 0.2195 - accuracy: 0.8883\n",
            "Epoch 33/100\n",
            "368/368 [==============================] - 0s 795us/step - loss: 0.2194 - accuracy: 0.8883\n",
            "Epoch 34/100\n",
            "368/368 [==============================] - 0s 865us/step - loss: 0.2193 - accuracy: 0.8883\n",
            "Epoch 35/100\n",
            "368/368 [==============================] - 0s 898us/step - loss: 0.2191 - accuracy: 0.8883\n",
            "Epoch 36/100\n",
            "368/368 [==============================] - 0s 922us/step - loss: 0.2192 - accuracy: 0.8883\n",
            "Epoch 37/100\n",
            "368/368 [==============================] - 0s 880us/step - loss: 0.2191 - accuracy: 0.8883\n",
            "Epoch 38/100\n",
            "368/368 [==============================] - 0s 865us/step - loss: 0.2191 - accuracy: 0.8883\n",
            "Epoch 39/100\n",
            "368/368 [==============================] - 0s 919us/step - loss: 0.2190 - accuracy: 0.8883\n",
            "Epoch 40/100\n",
            "368/368 [==============================] - 0s 900us/step - loss: 0.2190 - accuracy: 0.8883\n",
            "Epoch 41/100\n",
            "368/368 [==============================] - 0s 784us/step - loss: 0.2189 - accuracy: 0.8883\n",
            "Epoch 42/100\n",
            "368/368 [==============================] - 0s 802us/step - loss: 0.2189 - accuracy: 0.8883\n",
            "Epoch 43/100\n",
            "368/368 [==============================] - 0s 802us/step - loss: 0.2187 - accuracy: 0.8883\n",
            "Epoch 44/100\n",
            "368/368 [==============================] - 0s 764us/step - loss: 0.2189 - accuracy: 0.8883\n",
            "Epoch 45/100\n",
            "368/368 [==============================] - 0s 801us/step - loss: 0.2189 - accuracy: 0.8883\n",
            "Epoch 46/100\n",
            "368/368 [==============================] - 0s 757us/step - loss: 0.2187 - accuracy: 0.8883\n",
            "Epoch 47/100\n",
            "368/368 [==============================] - 0s 866us/step - loss: 0.2187 - accuracy: 0.8883\n",
            "Epoch 48/100\n",
            "368/368 [==============================] - 0s 918us/step - loss: 0.2186 - accuracy: 0.8883\n",
            "Epoch 49/100\n",
            "368/368 [==============================] - 0s 927us/step - loss: 0.2187 - accuracy: 0.8883\n",
            "Epoch 50/100\n",
            "368/368 [==============================] - 0s 818us/step - loss: 0.2187 - accuracy: 0.8883\n",
            "Epoch 51/100\n",
            "368/368 [==============================] - 0s 812us/step - loss: 0.2186 - accuracy: 0.8883\n",
            "Epoch 52/100\n",
            "368/368 [==============================] - 0s 792us/step - loss: 0.2187 - accuracy: 0.8883\n",
            "Epoch 53/100\n",
            "368/368 [==============================] - 0s 774us/step - loss: 0.2184 - accuracy: 0.8883\n",
            "Epoch 54/100\n",
            "368/368 [==============================] - 0s 808us/step - loss: 0.2185 - accuracy: 0.8883\n",
            "Epoch 55/100\n",
            "368/368 [==============================] - 0s 795us/step - loss: 0.2185 - accuracy: 0.8883\n",
            "Epoch 56/100\n",
            "368/368 [==============================] - 0s 809us/step - loss: 0.2185 - accuracy: 0.8883\n",
            "Epoch 57/100\n",
            "368/368 [==============================] - 0s 780us/step - loss: 0.2184 - accuracy: 0.8883\n",
            "Epoch 58/100\n",
            "368/368 [==============================] - 0s 802us/step - loss: 0.2186 - accuracy: 0.8883\n",
            "Epoch 59/100\n",
            "368/368 [==============================] - 0s 805us/step - loss: 0.2185 - accuracy: 0.8883\n",
            "Epoch 60/100\n",
            "368/368 [==============================] - 0s 808us/step - loss: 0.2185 - accuracy: 0.8883\n",
            "Epoch 61/100\n",
            "368/368 [==============================] - 0s 910us/step - loss: 0.2184 - accuracy: 0.8883\n",
            "Epoch 62/100\n",
            "368/368 [==============================] - 0s 861us/step - loss: 0.2182 - accuracy: 0.8883\n",
            "Epoch 63/100\n",
            "368/368 [==============================] - 0s 857us/step - loss: 0.2180 - accuracy: 0.8883\n",
            "Epoch 64/100\n",
            "368/368 [==============================] - 0s 879us/step - loss: 0.2187 - accuracy: 0.8883\n",
            "Epoch 65/100\n",
            "368/368 [==============================] - 0s 924us/step - loss: 0.2184 - accuracy: 0.8883\n",
            "Epoch 66/100\n",
            "368/368 [==============================] - 0s 864us/step - loss: 0.2184 - accuracy: 0.8883\n",
            "Epoch 67/100\n",
            "368/368 [==============================] - 0s 806us/step - loss: 0.2181 - accuracy: 0.8883\n",
            "Epoch 68/100\n",
            "368/368 [==============================] - 0s 804us/step - loss: 0.2182 - accuracy: 0.8883\n",
            "Epoch 69/100\n",
            "368/368 [==============================] - 0s 774us/step - loss: 0.2182 - accuracy: 0.8883\n",
            "Epoch 70/100\n",
            "368/368 [==============================] - 0s 841us/step - loss: 0.2183 - accuracy: 0.8883\n",
            "Epoch 71/100\n",
            "368/368 [==============================] - 0s 778us/step - loss: 0.2184 - accuracy: 0.8883\n",
            "Epoch 72/100\n",
            "368/368 [==============================] - 0s 869us/step - loss: 0.2183 - accuracy: 0.8883\n",
            "Epoch 73/100\n",
            "368/368 [==============================] - 0s 800us/step - loss: 0.2183 - accuracy: 0.8883\n",
            "Epoch 74/100\n",
            "368/368 [==============================] - 0s 802us/step - loss: 0.2184 - accuracy: 0.8883\n",
            "Epoch 75/100\n",
            "368/368 [==============================] - 0s 779us/step - loss: 0.2183 - accuracy: 0.8883\n",
            "Epoch 76/100\n",
            "368/368 [==============================] - 0s 803us/step - loss: 0.2183 - accuracy: 0.8883\n",
            "Epoch 77/100\n",
            "368/368 [==============================] - 0s 849us/step - loss: 0.2183 - accuracy: 0.8883\n",
            "Epoch 78/100\n",
            "368/368 [==============================] - 0s 796us/step - loss: 0.2183 - accuracy: 0.8883\n",
            "Epoch 79/100\n",
            "368/368 [==============================] - 0s 911us/step - loss: 0.2183 - accuracy: 0.8883\n",
            "Epoch 80/100\n",
            "368/368 [==============================] - 0s 786us/step - loss: 0.2183 - accuracy: 0.8883\n",
            "Epoch 81/100\n",
            "368/368 [==============================] - 0s 801us/step - loss: 0.2183 - accuracy: 0.8883\n",
            "Epoch 82/100\n",
            "368/368 [==============================] - 0s 877us/step - loss: 0.2182 - accuracy: 0.8883\n",
            "Epoch 83/100\n",
            "368/368 [==============================] - 0s 785us/step - loss: 0.2183 - accuracy: 0.8883\n",
            "Epoch 84/100\n",
            "368/368 [==============================] - 0s 805us/step - loss: 0.2183 - accuracy: 0.8883\n",
            "Epoch 85/100\n",
            "368/368 [==============================] - 0s 842us/step - loss: 0.2181 - accuracy: 0.8883\n",
            "Epoch 86/100\n",
            "368/368 [==============================] - 0s 792us/step - loss: 0.2182 - accuracy: 0.8883\n",
            "Epoch 87/100\n",
            "368/368 [==============================] - 0s 816us/step - loss: 0.2182 - accuracy: 0.8883\n",
            "Epoch 88/100\n",
            "368/368 [==============================] - 0s 857us/step - loss: 0.2183 - accuracy: 0.8883\n",
            "Epoch 89/100\n",
            "368/368 [==============================] - 0s 868us/step - loss: 0.2182 - accuracy: 0.8883\n",
            "Epoch 90/100\n",
            "368/368 [==============================] - 0s 789us/step - loss: 0.2182 - accuracy: 0.8883\n",
            "Epoch 91/100\n",
            "368/368 [==============================] - 0s 838us/step - loss: 0.2181 - accuracy: 0.8883\n",
            "Epoch 92/100\n",
            "368/368 [==============================] - 0s 817us/step - loss: 0.2182 - accuracy: 0.8883\n",
            "Epoch 93/100\n",
            "368/368 [==============================] - 0s 779us/step - loss: 0.2183 - accuracy: 0.8883\n",
            "Epoch 94/100\n",
            "368/368 [==============================] - 0s 800us/step - loss: 0.2181 - accuracy: 0.8883\n",
            "Epoch 95/100\n",
            "368/368 [==============================] - 0s 799us/step - loss: 0.2182 - accuracy: 0.8883\n",
            "Epoch 96/100\n",
            "368/368 [==============================] - 0s 787us/step - loss: 0.2182 - accuracy: 0.8883\n",
            "Epoch 97/100\n",
            "368/368 [==============================] - 0s 801us/step - loss: 0.2181 - accuracy: 0.8883\n",
            "Epoch 98/100\n",
            "368/368 [==============================] - 0s 804us/step - loss: 0.2182 - accuracy: 0.8883\n",
            "Epoch 99/100\n",
            "368/368 [==============================] - 0s 848us/step - loss: 0.2181 - accuracy: 0.8883\n",
            "Epoch 100/100\n",
            "368/368 [==============================] - 0s 795us/step - loss: 0.2183 - accuracy: 0.8883\n"
          ],
          "name": "stdout"
        }
      ]
    },
    {
      "cell_type": "code",
      "metadata": {
        "id": "XDyQbp3qIcbO"
      },
      "source": [
        "y_pred = model.predict(X_test)"
      ],
      "execution_count": null,
      "outputs": []
    },
    {
      "cell_type": "code",
      "metadata": {
        "id": "M54kZU_vJg31",
        "colab": {
          "base_uri": "https://localhost:8080/"
        },
        "outputId": "2422f919-f13c-4e09-8555-ace2554ed7a0"
      },
      "source": [
        "#confusion matrix\n",
        "from sklearn.metrics import confusion_matrix\n",
        "cm = confusion_matrix(y_test, y_pred.round())\n",
        "print(cm)"
      ],
      "execution_count": null,
      "outputs": [
        {
          "output_type": "stream",
          "text": [
            "[[600 105]\n",
            " [  0 215]]\n"
          ],
          "name": "stdout"
        }
      ]
    },
    {
      "cell_type": "code",
      "metadata": {
        "id": "qKIFc3MbB34z"
      },
      "source": [
        "X_LSTM =  X_train\n",
        "X_LSTM_test = X_test"
      ],
      "execution_count": null,
      "outputs": []
    },
    {
      "cell_type": "code",
      "metadata": {
        "id": "gCgJqwTEE4kF"
      },
      "source": [
        "X_LSTM=X_LSTM.reshape(3680,1,1)\n",
        "X_LSTM_test=X_LSTM_test.reshape(920,1,1)"
      ],
      "execution_count": null,
      "outputs": []
    },
    {
      "cell_type": "code",
      "metadata": {
        "id": "EdsUKgbKHlGK"
      },
      "source": [
        "import matplotlib.pyplot as plt"
      ],
      "execution_count": null,
      "outputs": []
    },
    {
      "cell_type": "code",
      "metadata": {
        "id": "b7ZFjRxKHFCg",
        "colab": {
          "base_uri": "https://localhost:8080/",
          "height": 573
        },
        "outputId": "84aa991b-2f3a-49d2-ff01-52963e3dba76"
      },
      "source": [
        "plt.plot(history.history['accuracy'])\n",
        "#plt.plot(history.history['val_accuracy'])\n",
        "plt.title('model accuracy of ANN')\n",
        "plt.ylabel('accuracy')\n",
        "plt.xlabel('epoch')\n",
        "plt.legend(['train', 'test'], loc='upper left')\n",
        "plt.show()\n",
        "\n",
        "plt.plot(history.history['loss'])\n",
        "#plt.plot(history_LSTM.history['val_loss'])\n",
        "plt.title('model loss of ANN')\n",
        "plt.ylabel('loss')\n",
        "plt.xlabel('epoch')\n",
        "plt.legend(['train', 'test'], loc='upper left')\n",
        "plt.show()"
      ],
      "execution_count": null,
      "outputs": [
        {
          "output_type": "display_data",
          "data": {
            "image/png": "[encoded data removed]",
            "text/plain": [
              "<Figure size 432x288 with 1 Axes>"
            ]
          },
          "metadata": {
            "tags": [],
            "needs_background": "light"
          }
        },
        {
          "output_type": "display_data",
          "data": {
            "image/png": "[encoded data removed]",
            "text/plain": [
              "<Figure size 432x288 with 1 Axes>"
            ]
          },
          "metadata": {
            "tags": [],
            "needs_background": "light"
          }
        }
      ]
    },
    {
      "cell_type": "markdown",
      "metadata": {
        "id": "-02nu3bSEsLp"
      },
      "source": [
        "# **5) Creating model for LSTM**"
      ]
    },
    {
      "cell_type": "code",
      "metadata": {
        "id": "97ifGfuPHj4v"
      },
      "source": [
        "from keras.layers import LSTM\n",
        "model_LSTM = models.Sequential()  \n",
        "model_LSTM.add(LSTM((1), input_shape=(2,1), kernel_initializer='uniform', activation='sigmoid'))\n",
        "model_LSTM.compile(loss='binary_crossentropy', optimizer='adam', metrics=['accuracy'])"
      ],
      "execution_count": null,
      "outputs": []
    },
    {
      "cell_type": "code",
      "metadata": {
        "id": "sWPv7XT3Iicx",
        "colab": {
          "base_uri": "https://localhost:8080/"
        },
        "outputId": "a724bee9-a478-4113-a616-5a4a834c7ec5"
      },
      "source": [
        "history_LSTM=model_LSTM.fit(X_LSTM, y_train, epochs=100, batch_size=150,verbose=2)"
      ],
      "execution_count": null,
      "outputs": [
        {
          "output_type": "stream",
          "text": [
            "Epoch 1/100\n",
            "WARNING:tensorflow:Model was constructed with shape (None, 2, 1) for input Tensor(\"lstm_input:0\", shape=(None, 2, 1), dtype=float32), but it was called on an input with incompatible shape (None, 1, 1).\n",
            "WARNING:tensorflow:Model was constructed with shape (None, 2, 1) for input Tensor(\"lstm_input:0\", shape=(None, 2, 1), dtype=float32), but it was called on an input with incompatible shape (None, 1, 1).\n",
            "25/25 - 0s - loss: 0.5190 - accuracy: 0.7617\n",
            "Epoch 2/100\n",
            "25/25 - 0s - loss: 0.4690 - accuracy: 0.8486\n",
            "Epoch 3/100\n",
            "25/25 - 0s - loss: 0.4423 - accuracy: 0.8690\n",
            "Epoch 4/100\n",
            "25/25 - 0s - loss: 0.4371 - accuracy: 0.8668\n",
            "Epoch 5/100\n",
            "25/25 - 0s - loss: 0.4334 - accuracy: 0.8660\n",
            "Epoch 6/100\n",
            "25/25 - 0s - loss: 0.4300 - accuracy: 0.8677\n",
            "Epoch 7/100\n",
            "25/25 - 0s - loss: 0.4270 - accuracy: 0.8668\n",
            "Epoch 8/100\n",
            "25/25 - 0s - loss: 0.4242 - accuracy: 0.8652\n",
            "Epoch 9/100\n",
            "25/25 - 0s - loss: 0.4215 - accuracy: 0.8644\n",
            "Epoch 10/100\n",
            "25/25 - 0s - loss: 0.4190 - accuracy: 0.8641\n",
            "Epoch 11/100\n",
            "25/25 - 0s - loss: 0.4165 - accuracy: 0.8644\n",
            "Epoch 12/100\n",
            "25/25 - 0s - loss: 0.4142 - accuracy: 0.8647\n",
            "Epoch 13/100\n",
            "25/25 - 0s - loss: 0.4120 - accuracy: 0.8644\n",
            "Epoch 14/100\n",
            "25/25 - 0s - loss: 0.4099 - accuracy: 0.8641\n",
            "Epoch 15/100\n",
            "25/25 - 0s - loss: 0.4078 - accuracy: 0.8641\n",
            "Epoch 16/100\n",
            "25/25 - 0s - loss: 0.4058 - accuracy: 0.8639\n",
            "Epoch 17/100\n",
            "25/25 - 0s - loss: 0.4039 - accuracy: 0.8633\n",
            "Epoch 18/100\n",
            "25/25 - 0s - loss: 0.4021 - accuracy: 0.8633\n",
            "Epoch 19/100\n",
            "25/25 - 0s - loss: 0.4003 - accuracy: 0.8633\n",
            "Epoch 20/100\n",
            "25/25 - 0s - loss: 0.3986 - accuracy: 0.8625\n",
            "Epoch 21/100\n",
            "25/25 - 0s - loss: 0.3970 - accuracy: 0.8625\n",
            "Epoch 22/100\n",
            "25/25 - 0s - loss: 0.3954 - accuracy: 0.8625\n",
            "Epoch 23/100\n",
            "25/25 - 0s - loss: 0.3938 - accuracy: 0.8625\n",
            "Epoch 24/100\n",
            "25/25 - 0s - loss: 0.3923 - accuracy: 0.8614\n",
            "Epoch 25/100\n",
            "25/25 - 0s - loss: 0.3909 - accuracy: 0.8614\n",
            "Epoch 26/100\n",
            "25/25 - 0s - loss: 0.3895 - accuracy: 0.8614\n",
            "Epoch 27/100\n",
            "25/25 - 0s - loss: 0.3881 - accuracy: 0.8614\n",
            "Epoch 28/100\n",
            "25/25 - 0s - loss: 0.3868 - accuracy: 0.8611\n",
            "Epoch 29/100\n",
            "25/25 - 0s - loss: 0.3855 - accuracy: 0.8611\n",
            "Epoch 30/100\n",
            "25/25 - 0s - loss: 0.3842 - accuracy: 0.8611\n",
            "Epoch 31/100\n",
            "25/25 - 0s - loss: 0.3830 - accuracy: 0.8598\n",
            "Epoch 32/100\n",
            "25/25 - 0s - loss: 0.3818 - accuracy: 0.8598\n",
            "Epoch 33/100\n",
            "25/25 - 0s - loss: 0.3806 - accuracy: 0.8598\n",
            "Epoch 34/100\n",
            "25/25 - 0s - loss: 0.3794 - accuracy: 0.8609\n",
            "Epoch 35/100\n",
            "25/25 - 0s - loss: 0.3783 - accuracy: 0.8617\n",
            "Epoch 36/100\n",
            "25/25 - 0s - loss: 0.3772 - accuracy: 0.8617\n",
            "Epoch 37/100\n",
            "25/25 - 0s - loss: 0.3761 - accuracy: 0.8609\n",
            "Epoch 38/100\n",
            "25/25 - 0s - loss: 0.3749 - accuracy: 0.8609\n",
            "Epoch 39/100\n",
            "25/25 - 0s - loss: 0.3738 - accuracy: 0.8617\n",
            "Epoch 40/100\n",
            "25/25 - 0s - loss: 0.3728 - accuracy: 0.8603\n",
            "Epoch 41/100\n",
            "25/25 - 0s - loss: 0.3717 - accuracy: 0.8603\n",
            "Epoch 42/100\n",
            "25/25 - 0s - loss: 0.3706 - accuracy: 0.8609\n",
            "Epoch 43/100\n",
            "25/25 - 0s - loss: 0.3696 - accuracy: 0.8606\n",
            "Epoch 44/100\n",
            "25/25 - 0s - loss: 0.3685 - accuracy: 0.8606\n",
            "Epoch 45/100\n",
            "25/25 - 0s - loss: 0.3675 - accuracy: 0.8606\n",
            "Epoch 46/100\n",
            "25/25 - 0s - loss: 0.3664 - accuracy: 0.8609\n",
            "Epoch 47/100\n",
            "25/25 - 0s - loss: 0.3654 - accuracy: 0.8614\n",
            "Epoch 48/100\n",
            "25/25 - 0s - loss: 0.3643 - accuracy: 0.8617\n",
            "Epoch 49/100\n",
            "25/25 - 0s - loss: 0.3633 - accuracy: 0.8617\n",
            "Epoch 50/100\n",
            "25/25 - 0s - loss: 0.3623 - accuracy: 0.8606\n",
            "Epoch 51/100\n",
            "25/25 - 0s - loss: 0.3613 - accuracy: 0.8609\n",
            "Epoch 52/100\n",
            "25/25 - 0s - loss: 0.3603 - accuracy: 0.8609\n",
            "Epoch 53/100\n",
            "25/25 - 0s - loss: 0.3593 - accuracy: 0.8609\n",
            "Epoch 54/100\n",
            "25/25 - 0s - loss: 0.3583 - accuracy: 0.8609\n",
            "Epoch 55/100\n",
            "25/25 - 0s - loss: 0.3573 - accuracy: 0.8609\n",
            "Epoch 56/100\n",
            "25/25 - 0s - loss: 0.3564 - accuracy: 0.8606\n",
            "Epoch 57/100\n",
            "25/25 - 0s - loss: 0.3554 - accuracy: 0.8603\n",
            "Epoch 58/100\n",
            "25/25 - 0s - loss: 0.3544 - accuracy: 0.8603\n",
            "Epoch 59/100\n",
            "25/25 - 0s - loss: 0.3535 - accuracy: 0.8595\n",
            "Epoch 60/100\n",
            "25/25 - 0s - loss: 0.3526 - accuracy: 0.8584\n",
            "Epoch 61/100\n",
            "25/25 - 0s - loss: 0.3516 - accuracy: 0.8584\n",
            "Epoch 62/100\n",
            "25/25 - 0s - loss: 0.3507 - accuracy: 0.8584\n",
            "Epoch 63/100\n",
            "25/25 - 0s - loss: 0.3498 - accuracy: 0.8579\n",
            "Epoch 64/100\n",
            "25/25 - 0s - loss: 0.3489 - accuracy: 0.8571\n",
            "Epoch 65/100\n",
            "25/25 - 0s - loss: 0.3480 - accuracy: 0.8571\n",
            "Epoch 66/100\n",
            "25/25 - 0s - loss: 0.3471 - accuracy: 0.8571\n",
            "Epoch 67/100\n",
            "25/25 - 0s - loss: 0.3462 - accuracy: 0.8571\n",
            "Epoch 68/100\n",
            "25/25 - 0s - loss: 0.3454 - accuracy: 0.8579\n",
            "Epoch 69/100\n",
            "25/25 - 0s - loss: 0.3445 - accuracy: 0.8590\n",
            "Epoch 70/100\n",
            "25/25 - 0s - loss: 0.3436 - accuracy: 0.8590\n",
            "Epoch 71/100\n",
            "25/25 - 0s - loss: 0.3428 - accuracy: 0.8590\n",
            "Epoch 72/100\n",
            "25/25 - 0s - loss: 0.3420 - accuracy: 0.8590\n",
            "Epoch 73/100\n",
            "25/25 - 0s - loss: 0.3411 - accuracy: 0.8592\n",
            "Epoch 74/100\n",
            "25/25 - 0s - loss: 0.3403 - accuracy: 0.8595\n",
            "Epoch 75/100\n",
            "25/25 - 0s - loss: 0.3395 - accuracy: 0.8595\n",
            "Epoch 76/100\n",
            "25/25 - 0s - loss: 0.3387 - accuracy: 0.8595\n",
            "Epoch 77/100\n",
            "25/25 - 0s - loss: 0.3379 - accuracy: 0.8595\n",
            "Epoch 78/100\n",
            "25/25 - 0s - loss: 0.3371 - accuracy: 0.8595\n",
            "Epoch 79/100\n",
            "25/25 - 0s - loss: 0.3363 - accuracy: 0.8595\n",
            "Epoch 80/100\n",
            "25/25 - 0s - loss: 0.3356 - accuracy: 0.8579\n",
            "Epoch 81/100\n",
            "25/25 - 0s - loss: 0.3348 - accuracy: 0.8571\n",
            "Epoch 82/100\n",
            "25/25 - 0s - loss: 0.3340 - accuracy: 0.8571\n",
            "Epoch 83/100\n",
            "25/25 - 0s - loss: 0.3333 - accuracy: 0.8571\n",
            "Epoch 84/100\n",
            "25/25 - 0s - loss: 0.3326 - accuracy: 0.8571\n",
            "Epoch 85/100\n",
            "25/25 - 0s - loss: 0.3318 - accuracy: 0.8571\n",
            "Epoch 86/100\n",
            "25/25 - 0s - loss: 0.3310 - accuracy: 0.8571\n",
            "Epoch 87/100\n",
            "25/25 - 0s - loss: 0.3303 - accuracy: 0.8573\n",
            "Epoch 88/100\n",
            "25/25 - 0s - loss: 0.3296 - accuracy: 0.8584\n",
            "Epoch 89/100\n",
            "25/25 - 0s - loss: 0.3288 - accuracy: 0.8584\n",
            "Epoch 90/100\n",
            "25/25 - 0s - loss: 0.3282 - accuracy: 0.8584\n",
            "Epoch 91/100\n",
            "25/25 - 0s - loss: 0.3274 - accuracy: 0.8584\n",
            "Epoch 92/100\n",
            "25/25 - 0s - loss: 0.3267 - accuracy: 0.8584\n",
            "Epoch 93/100\n",
            "25/25 - 0s - loss: 0.3261 - accuracy: 0.8584\n",
            "Epoch 94/100\n",
            "25/25 - 0s - loss: 0.3253 - accuracy: 0.8584\n",
            "Epoch 95/100\n",
            "25/25 - 0s - loss: 0.3247 - accuracy: 0.8584\n",
            "Epoch 96/100\n",
            "25/25 - 0s - loss: 0.3240 - accuracy: 0.8584\n",
            "Epoch 97/100\n",
            "25/25 - 0s - loss: 0.3233 - accuracy: 0.8595\n",
            "Epoch 98/100\n",
            "25/25 - 0s - loss: 0.3227 - accuracy: 0.8595\n",
            "Epoch 99/100\n",
            "25/25 - 0s - loss: 0.3221 - accuracy: 0.8595\n",
            "Epoch 100/100\n",
            "25/25 - 0s - loss: 0.3214 - accuracy: 0.8595\n"
          ],
          "name": "stdout"
        }
      ]
    },
    {
      "cell_type": "code",
      "metadata": {
        "id": "X6o7EPWZKZGr"
      },
      "source": [
        "y_pred_LSTM = model_LSTM.predict(X_LSTM_test)"
      ],
      "execution_count": null,
      "outputs": []
    },
    {
      "cell_type": "code",
      "metadata": {
        "id": "SthE6PS5Kfvh",
        "colab": {
          "base_uri": "https://localhost:8080/"
        },
        "outputId": "48e584b2-1ba3-4be1-ae55-efde6f2bed10"
      },
      "source": [
        "#confusion matrix\n",
        "from sklearn.metrics import confusion_matrix\n",
        "cm = confusion_matrix(y_test, y_pred.round())\n",
        "print(cm)"
      ],
      "execution_count": null,
      "outputs": [
        {
          "output_type": "stream",
          "text": [
            "[[600 105]\n",
            " [  0 215]]\n"
          ],
          "name": "stdout"
        }
      ]
    },
    {
      "cell_type": "markdown",
      "metadata": {
        "id": "WfM3tVhPEx2g"
      },
      "source": [
        "# **6) Comapring the accuracy of both ANN and LSTM**"
      ]
    },
    {
      "cell_type": "code",
      "metadata": {
        "id": "gIJKysd6Jfkk",
        "colab": {
          "base_uri": "https://localhost:8080/",
          "height": 1000
        },
        "outputId": "09a2af28-6d8d-43cb-c17a-b69197ae4805"
      },
      "source": [
        "plt.plot(history_LSTM.history['loss'], color ='tab:orange')\n",
        "#plt.plot(history_LSTM.history['val_loss'])\n",
        "plt.title('model loss of LSTM')\n",
        "plt.ylabel('loss')\n",
        "plt.xlabel('epoch')\n",
        "plt.legend(['train', 'test'], loc='upper left')\n",
        "plt.show()\n",
        "\n",
        "plt.plot(history_LSTM.history['accuracy'], color ='tab:orange')\n",
        "#plt.plot(history.history['val_accuracy'])\n",
        "plt.title('model accuracy of LSTM model')\n",
        "plt.ylabel('accuracy')\n",
        "plt.xlabel('epoch')\n",
        "plt.legend(['train', 'test'], loc='upper left')\n",
        "plt.show()\n",
        "\n",
        "plt.plot(history.history['accuracy'])\n",
        "#plt.plot(history.history['val_accuracy'])\n",
        "plt.title('model accuracy of ANN')\n",
        "plt.ylabel('accuracy')\n",
        "plt.xlabel('epoch')\n",
        "plt.legend(['train', 'test'], loc='upper left')\n",
        "plt.show()\n",
        "\n",
        "plt.plot(history.history['loss'])\n",
        "#plt.plot(history_LSTM.history['val_loss'])\n",
        "plt.title('model loss of ANN')\n",
        "plt.ylabel('loss')\n",
        "plt.xlabel('epoch')\n",
        "plt.legend(['train', 'test'], loc='upper left')\n",
        "plt.show()"
      ],
      "execution_count": null,
      "outputs": [
        {
          "output_type": "display_data",
          "data": {
            "image/png": "[encoded data removed]",
            "text/plain": [
              "<Figure size 432x288 with 1 Axes>"
            ]
          },
          "metadata": {
            "tags": [],
            "needs_background": "light"
          }
        },
        {
          "output_type": "display_data",
          "data": {
            "image/png": "[encoded data removed]",
            "text/plain": [
              "<Figure size 432x288 with 1 Axes>"
            ]
          },
          "metadata": {
            "tags": [],
            "needs_background": "light"
          }
        },
        {
          "output_type": "display_data",
          "data": {
            "image/png": "[encoded data removed]",
            "text/plain": [
              "<Figure size 432x288 with 1 Axes>"
            ]
          },
          "metadata": {
            "tags": [],
            "needs_background": "light"
          }
        },
        {
          "output_type": "display_data",
          "data": {
            "image/png": "[encoded data removed]",
            "text/plain": [
              "<Figure size 432x288 with 1 Axes>"
            ]
          },
          "metadata": {
            "tags": [],
            "needs_background": "light"
          }
        }
      ]
    },
    {
      "cell_type": "code",
      "metadata": {
        "id": "yLsTskEaJrZY"
      },
      "source": [
        ""
      ],
      "execution_count": null,
      "outputs": []
    }
  ]
}